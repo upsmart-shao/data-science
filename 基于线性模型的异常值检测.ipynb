{
 "cells": [
  {
   "cell_type": "raw",
   "metadata": {},
   "source": [
    "在利用统计学方法的异常值检测中，有一种重要并且基础的方法，就是利用线性回归的方法进行异常值检测，线性回归是一种参数化的统计建模方法，一类是通过其他变量预测因变量的值；另一类是用潜在变量来代替整个数据的情况，这叫做主成分分析法"
   ]
  },
  {
   "cell_type": "raw",
   "metadata": {},
   "source": [
    "主成分分析的基本思想是用较少的变量替代原始较多的变量，从而达到数据降维的目的，因为特征维度过多可能会导致计算时间过长，从而发生\"维度灾难\",所以，进行一定的特征降维就显得尤为重要，在特征降维的同时最大程度保持原始特征蕴含的信息就是主成分分析主要的目标，在这一过程中，使用特征值计算数据点沿每个主分量方向到质心的归一化距离，距离越远，该数据点是异常点的可能性越大。具体脚本如下："
   ]
  },
  {
   "cell_type": "code",
   "execution_count": 5,
   "metadata": {},
   "outputs": [],
   "source": [
    "#########################数据生成\n",
    "from pyod.models.pca import PCA\n",
    "from pyod.utils.data import generate_data\n",
    "X_train, y_train, X_test, y_test = generate_data(n_train=200,\n",
    "                                                     n_test=100,\n",
    "                                                     n_features=20,\n",
    "                                                     contamination=float(0.1),\n",
    "                                                     random_state=42)"
   ]
  },
  {
   "cell_type": "code",
   "execution_count": 6,
   "metadata": {},
   "outputs": [],
   "source": [
    "#########################模型拟合\n",
    "model = PCA(n_components=3,\n",
    "            n_selected_components=3,\n",
    "            contamination=0.1) ##设置3个主成分，并设置10%的异常比例\n",
    "fit = model.fit(X_train)"
   ]
  },
  {
   "cell_type": "code",
   "execution_count": 8,
   "metadata": {},
   "outputs": [
    {
     "data": {
      "text/plain": [
       "array([0, 0, 0, 0, 0, 0, 0, 0, 0, 0, 0, 0, 0, 0, 0, 0, 0, 0, 0, 0, 0, 0,\n",
       "       0, 0, 0, 0, 0, 0, 0, 0, 0, 0, 0, 0, 0, 0, 0, 0, 0, 0, 0, 0, 0, 0,\n",
       "       0, 0, 0, 0, 0, 0, 0, 0, 0, 0, 0, 0, 0, 0, 0, 0, 0, 0, 0, 0, 0, 0,\n",
       "       0, 0, 0, 0, 0, 0, 0, 0, 0, 0, 0, 0, 0, 0, 0, 0, 0, 0, 0, 0, 0, 0,\n",
       "       0, 0, 1, 1, 1, 1, 1, 1, 1, 1, 1, 1])"
      ]
     },
     "execution_count": 8,
     "metadata": {},
     "output_type": "execute_result"
    }
   ],
   "source": [
    "result = fit.predict(X_test)  ####模型预测结果\n",
    "result"
   ]
  },
  {
   "cell_type": "code",
   "execution_count": null,
   "metadata": {},
   "outputs": [],
   "source": [
    "X_test共有100条数据，其中10%的异常比例就是10个异常值，模型预测效果较为准确。"
   ]
  }
 ],
 "metadata": {
  "kernelspec": {
   "display_name": "Python 3",
   "language": "python",
   "name": "python3"
  },
  "language_info": {
   "codemirror_mode": {
    "name": "ipython",
    "version": 3
   },
   "file_extension": ".py",
   "mimetype": "text/x-python",
   "name": "python",
   "nbconvert_exporter": "python",
   "pygments_lexer": "ipython3",
   "version": "3.7.3"
  }
 },
 "nbformat": 4,
 "nbformat_minor": 2
}
