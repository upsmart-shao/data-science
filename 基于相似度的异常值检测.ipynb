{
 "cells": [
  {
   "cell_type": "markdown",
   "metadata": {},
   "source": [
    "\"异常值\" 其实是一种较为主观的判断，不同的业务场景可能会有不同的异常值的定义，“异常值”不是没有意义的数据，某些异常值可能具有正常值不蕴含的特殊含义，所以，分析异常值产生的原因和异常值包含的业务意义是异常检测的核心目标。"
   ]
  },
  {
   "cell_type": "markdown",
   "metadata": {},
   "source": [
    "基于距离的异常值检测是一种较为常见的异常值检测方法，因为一般意义的异常值就是与正常值相比距离较远的值，也就是通俗说的“不合群”的点，基于距离的异常值检测能应用于多元的数据类型，因此相较于统计学和线性回归方法，基于距离的异常值检测应用范围更广，但是距离计算需要消耗的资源更大，时间开销较高，不太适用于数据量较多的异常值检测。"
   ]
  },
  {
   "cell_type": "markdown",
   "metadata": {},
   "source": [
    "在基于距离的异常值检测中，LOF算法是基于密度的异常值检测算法，适用于高维数据的异常值检测，基于的核心思想是：异常点(离群点)处的密度应该比周围正\n",
    "常点处的密度小。"
   ]
  },
  {
   "cell_type": "code",
   "execution_count": 2,
   "metadata": {},
   "outputs": [],
   "source": [
    "#########################数据生成\n",
    "from pyod.models.lof import LOF \n",
    "from pyod.utils.data import generate_data\n",
    "X_train, y_train, X_test, y_test = generate_data(n_train=200,\n",
    "                                                     n_test=100,\n",
    "                                                     n_features=2,\n",
    "                                                     contamination=float(0.1),\n",
    "                                                     random_state=42)"
   ]
  },
  {
   "cell_type": "code",
   "execution_count": 5,
   "metadata": {},
   "outputs": [],
   "source": [
    "########################模型建立\n",
    "model = LOF(n_neighbors = 20,algorithm = 'auto',contamination=0.1) #####选取临近20个点为范围，异常比例设定为10%\n",
    "fit = model.fit(X_train)"
   ]
  },
  {
   "cell_type": "code",
   "execution_count": 6,
   "metadata": {},
   "outputs": [
    {
     "data": {
      "text/plain": [
       "array([0, 0, 0, 0, 0, 0, 0, 0, 0, 0, 0, 0, 0, 0, 0, 0, 0, 0, 0, 0, 0, 0,\n",
       "       0, 1, 0, 0, 0, 0, 0, 0, 0, 0, 0, 0, 0, 0, 0, 0, 0, 0, 0, 0, 0, 0,\n",
       "       0, 0, 0, 0, 0, 0, 0, 0, 0, 0, 0, 0, 0, 0, 0, 0, 0, 0, 0, 0, 0, 0,\n",
       "       0, 0, 0, 0, 0, 0, 0, 0, 0, 0, 0, 1, 0, 0, 0, 0, 0, 0, 0, 0, 0, 0,\n",
       "       0, 0, 1, 1, 1, 1, 1, 1, 1, 1, 1, 1])"
      ]
     },
     "execution_count": 6,
     "metadata": {},
     "output_type": "execute_result"
    }
   ],
   "source": [
    "result = fit.predict(X_test)\n",
    "result"
   ]
  },
  {
   "cell_type": "code",
   "execution_count": null,
   "metadata": {},
   "outputs": [],
   "source": [
    "result是模型预测出来的结果，1代表异常点，0代表非异常点。"
   ]
  }
 ],
 "metadata": {
  "kernelspec": {
   "display_name": "Python 3",
   "language": "python",
   "name": "python3"
  },
  "language_info": {
   "codemirror_mode": {
    "name": "ipython",
    "version": 3
   },
   "file_extension": ".py",
   "mimetype": "text/x-python",
   "name": "python",
   "nbconvert_exporter": "python",
   "pygments_lexer": "ipython3",
   "version": "3.7.6"
  }
 },
 "nbformat": 4,
 "nbformat_minor": 2
}
