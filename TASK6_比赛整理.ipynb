{
 "cells": [
  {
   "cell_type": "markdown",
   "metadata": {},
   "source": [
    "在这次模拟比赛中，我系统的学习了回归问题的具体实施方法与方案：\n",
    "  在数据清洗时，结合实际业务逻辑，对变量进行增删查改，具体实施的时候，对数值型和分类型变量分别处理：数值型变量可以通过其与因变量的相关性、随机森林算法的特征重要度或者回归模型中的特征得分计算；对于分类变量，首先需要进行one-hot处理，然后可以使用selectKbest、方差分析等方法进行特征筛选。\n",
    "  另外在对变量进行处理时，对因变量做对数化处理，目的是使因变量服从正态分布；数值型自变量要进行标准化处理，消除变量之间的量纲差异。\n",
    "  建立线性回归模型，对房价进行预测，以此为基准,然后建立Lightgbm，结果显示：lightgbm效果比线性模型更好。在进行模型融合的时候，使用stacking的方法，以线性回归模型为基模型，将lightgbm与xgboost融合，模型预测效果比单个模型结果有显著的提升。"
   ]
  }
 ],
 "metadata": {
  "kernelspec": {
   "display_name": "Python [Anaconda3]",
   "language": "python",
   "name": "Python [Anaconda3]"
  },
  "language_info": {
   "codemirror_mode": {
    "name": "ipython",
    "version": 3
   },
   "file_extension": ".py",
   "mimetype": "text/x-python",
   "name": "python",
   "nbconvert_exporter": "python",
   "pygments_lexer": "ipython3",
   "version": "3.5.6"
  }
 },
 "nbformat": 4,
 "nbformat_minor": 0
}
